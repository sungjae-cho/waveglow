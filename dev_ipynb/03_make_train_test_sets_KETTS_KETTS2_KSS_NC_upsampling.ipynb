{
 "cells": [
  {
   "cell_type": "code",
   "execution_count": 1,
   "metadata": {},
   "outputs": [
    {
     "name": "stdout",
     "output_type": "stream",
     "text": [
      "The working directory is moved \n",
      "from /data2/sungjaecho/Projects/waveglow_github/dev_ipynb \n",
      "to /data2/sungjaecho/Projects/waveglow_github/file_lists/02_KETTS_KETTS2_KSS_NC.\n"
     ]
    }
   ],
   "source": [
    "import os\n",
    "cwd_old = os.getcwd()\n",
    "dir_path = '../file_lists/02_KETTS_KETTS2_KSS_NC'\n",
    "os.chdir(dir_path)\n",
    "cwd_new = os.getcwd()\n",
    "print(\"The working directory is moved \\nfrom {} \\nto {}.\".format(cwd_old, cwd_new))"
   ]
  },
  {
   "cell_type": "markdown",
   "metadata": {},
   "source": [
    "# Make training and test datasets"
   ]
  },
  {
   "cell_type": "code",
   "execution_count": 2,
   "metadata": {},
   "outputs": [],
   "source": [
    "import wave\n",
    "import contextlib\n",
    "def get_duration(wav_path):\n",
    "    with contextlib.closing(wave.open(wav_path,'r')) as f:\n",
    "        frames = f.getnframes()\n",
    "        rate = f.getframerate()\n",
    "        duration = frames / float(rate)\n",
    "    return duration, frames, rate"
   ]
  },
  {
   "cell_type": "code",
   "execution_count": 3,
   "metadata": {},
   "outputs": [],
   "source": [
    "import pandas as pd\n",
    "df_list = list()\n",
    "df_list.append(pd.read_csv('ketts.csv'))\n",
    "df_list.append(pd.read_csv('ketts2.csv'))\n",
    "df_list.append(pd.read_csv('kss.csv'))\n",
    "df_list.append(pd.read_csv('nc.csv'))\n",
    "df = pd.concat(df_list, ignore_index=True)\n",
    "df = df[df.split.isin(['train', 'val', 'test'])]"
   ]
  },
  {
   "cell_type": "code",
   "execution_count": 4,
   "metadata": {},
   "outputs": [
    {
     "data": {
      "text/plain": [
       "(87120, 9)"
      ]
     },
     "execution_count": 4,
     "metadata": {},
     "output_type": "execute_result"
    }
   ],
   "source": [
    "df.shape"
   ]
  },
  {
   "cell_type": "code",
   "execution_count": 5,
   "metadata": {},
   "outputs": [],
   "source": [
    "import os\n",
    "from tqdm import tqdm"
   ]
  },
  {
   "cell_type": "code",
   "execution_count": 6,
   "metadata": {},
   "outputs": [],
   "source": [
    "import json\n",
    "with open('../../config.json') as f:\n",
    "    data = f.read()\n",
    "config = json.loads(data)\n",
    "wg_segment_length = config[\"data_config\"][\"segment_length\"]\n",
    "wg_sampling_rate = config[\"data_config\"][\"sampling_rate\"]"
   ]
  },
  {
   "cell_type": "code",
   "execution_count": 7,
   "metadata": {},
   "outputs": [
    {
     "name": "stdout",
     "output_type": "stream",
     "text": [
      "voice_type_set {'nc-m_happy', 'ketts-30f_disgusted', 'ketts2-50f_sad', 'ketts2-20m_sad', 'ketts-30m_angry', 'ketts2-20m_fearful', 'ketts-30m_neutral', 'ketts2-60f_surprised', 'ketts2-40m_angry', 'ketts2-60f_angry', 'ketts-30m_sad', 'ketts2-60f_disgusted', 'ketts2-50m_fearful', 'ketts-30m_fearful', 'ketts2-50m_surprised', 'ketts2-20m_neutral', 'ketts2-50m_sad', 'ketts-30f_sad', 'ketts-30m_happy', 'ketts2-50f_angry', 'ketts2-60f_neutral', 'ketts2-20m_surprised', 'ketts2-50m_happy', 'nc-f_happy', 'nc-m_fearful', 'ketts2-20m_happy', 'ketts2-40m_neutral', 'nc-f_fearful', 'ketts2-20m_angry', 'nc-m_neutral', 'ketts2-40m_disgusted', 'ketts-30f_happy', 'ketts-30m_surprised', 'ketts2-20m_disgusted', 'ketts2-50f_neutral', 'ketts-30f_neutral', 'ketts2-40m_happy', 'ketts2-30f_fearful', 'ketts2-50m_angry', 'ketts-30f_angry', 'ketts2-60f_happy', 'ketts2-60f_fearful', 'ketts2-30f_neutral', 'ketts-30m_disgusted', 'ketts2-50m_neutral', 'ketts2-30f_sad', 'ketts2-40m_sad', 'ketts2-60f_sad', 'ketts2-30f_angry', 'ketts2-30f_disgusted', 'ketts2-50f_fearful', 'ketts2-50f_happy', 'ketts2-50m_disgusted', 'ketts2-40m_fearful', 'ketts2-30f_happy', 'ketts2-50f_disgusted', 'nc-f_neutral', 'nc-f_sad', 'nc-m_angry', 'nc-m_sad', 'ketts2-30f_surprised', 'ketts2-50f_surprised', 'nc-f_angry', 'ketts-30f_fearful', 'ketts2-40m_surprised', 'kss-w_neutral', 'ketts-30f_surprised'}\n",
      "len(voice_type_set) 67\n"
     ]
    }
   ],
   "source": [
    "voice_type_set = set()\n",
    "for i, row in df[['speaker', 'emotion']].drop_duplicates().iterrows():\n",
    "    voice_type = '{}_{}'.format(row.speaker, row.emotion)\n",
    "    voice_type_set.add(voice_type)\n",
    "print('voice_type_set', voice_type_set)\n",
    "print('len(voice_type_set)', len(voice_type_set))"
   ]
  },
  {
   "cell_type": "code",
   "execution_count": 8,
   "metadata": {},
   "outputs": [
    {
     "name": "stderr",
     "output_type": "stream",
     "text": [
      "100%|██████████| 87120/87120 [00:17<00:00, 4952.96it/s]"
     ]
    },
    {
     "name": "stdout",
     "output_type": "stream",
     "text": [
      "len(test_wavs[nc-m_happy]) 9\n",
      "len(test_wavs[ketts-30f_disgusted]) 10\n",
      "len(test_wavs[ketts2-50f_sad]) 10\n",
      "len(test_wavs[ketts2-20m_sad]) 10\n",
      "len(test_wavs[ketts-30m_angry]) 10\n",
      "len(test_wavs[ketts2-20m_fearful]) 10\n",
      "len(test_wavs[ketts-30m_neutral]) 10\n",
      "len(test_wavs[ketts2-60f_surprised]) 10\n",
      "len(test_wavs[ketts2-40m_angry]) 10\n",
      "len(test_wavs[ketts2-60f_angry]) 10\n",
      "len(test_wavs[ketts-30m_sad]) 10\n",
      "len(test_wavs[ketts2-60f_disgusted]) 10\n",
      "len(test_wavs[ketts2-50m_fearful]) 10\n",
      "len(test_wavs[ketts-30m_fearful]) 10\n",
      "len(test_wavs[ketts2-50m_surprised]) 10\n",
      "len(test_wavs[ketts2-20m_neutral]) 10\n",
      "len(test_wavs[ketts2-50m_sad]) 10\n",
      "len(test_wavs[ketts-30f_sad]) 10\n",
      "len(test_wavs[ketts-30m_happy]) 10\n",
      "len(test_wavs[ketts2-50f_angry]) 10\n",
      "len(test_wavs[ketts2-60f_neutral]) 10\n",
      "len(test_wavs[ketts2-20m_surprised]) 10\n",
      "len(test_wavs[ketts2-50m_happy]) 10\n",
      "len(test_wavs[nc-f_happy]) 8\n",
      "len(test_wavs[nc-m_fearful]) 10\n",
      "len(test_wavs[ketts2-20m_happy]) 10\n",
      "len(test_wavs[ketts2-40m_neutral]) 10\n",
      "len(test_wavs[nc-f_fearful]) 11\n",
      "len(test_wavs[ketts2-20m_angry]) 10\n",
      "len(test_wavs[nc-m_neutral]) 22\n",
      "len(test_wavs[ketts2-40m_disgusted]) 10\n",
      "len(test_wavs[ketts-30f_happy]) 10\n",
      "len(test_wavs[ketts-30m_surprised]) 10\n",
      "len(test_wavs[ketts2-20m_disgusted]) 10\n",
      "len(test_wavs[ketts2-50f_neutral]) 10\n",
      "len(test_wavs[ketts-30f_neutral]) 10\n",
      "len(test_wavs[ketts2-40m_happy]) 10\n",
      "len(test_wavs[ketts2-30f_fearful]) 10\n",
      "len(test_wavs[ketts2-50m_angry]) 10\n",
      "len(test_wavs[ketts-30f_angry]) 10\n",
      "len(test_wavs[ketts2-60f_happy]) 10\n",
      "len(test_wavs[ketts2-60f_fearful]) 10\n",
      "len(test_wavs[ketts2-30f_neutral]) 10\n",
      "len(test_wavs[ketts-30m_disgusted]) 10\n",
      "len(test_wavs[ketts2-50m_neutral]) 10\n",
      "len(test_wavs[ketts2-30f_sad]) 10\n",
      "len(test_wavs[ketts2-40m_sad]) 10\n",
      "len(test_wavs[ketts2-60f_sad]) 10\n",
      "len(test_wavs[ketts2-30f_angry]) 10\n",
      "len(test_wavs[ketts2-30f_disgusted]) 10\n",
      "len(test_wavs[ketts2-50f_fearful]) 10\n",
      "len(test_wavs[ketts2-50f_happy]) 10\n",
      "len(test_wavs[ketts2-50m_disgusted]) 10\n",
      "len(test_wavs[ketts2-40m_fearful]) 10\n",
      "len(test_wavs[ketts2-30f_happy]) 10\n",
      "len(test_wavs[ketts2-50f_disgusted]) 10\n",
      "len(test_wavs[nc-f_neutral]) 34\n",
      "len(test_wavs[nc-f_sad]) 7\n",
      "len(test_wavs[nc-m_angry]) 6\n",
      "len(test_wavs[nc-m_sad]) 6\n",
      "len(test_wavs[ketts2-30f_surprised]) 10\n",
      "len(test_wavs[ketts2-50f_surprised]) 10\n",
      "len(test_wavs[nc-f_angry]) 15\n",
      "len(test_wavs[ketts-30f_fearful]) 10\n",
      "len(test_wavs[ketts2-40m_surprised]) 10\n",
      "len(test_wavs[kss-w_neutral]) 128\n",
      "len(test_wavs[ketts-30f_surprised]) 10\n",
      "len(val_wavs[nc-m_happy]) 9\n",
      "len(val_wavs[ketts-30f_disgusted]) 10\n",
      "len(val_wavs[ketts2-50f_sad]) 10\n",
      "len(val_wavs[ketts2-20m_sad]) 10\n",
      "len(val_wavs[ketts-30m_angry]) 10\n",
      "len(val_wavs[ketts2-20m_fearful]) 10\n",
      "len(val_wavs[ketts-30m_neutral]) 10\n",
      "len(val_wavs[ketts2-60f_surprised]) 10\n",
      "len(val_wavs[ketts2-40m_angry]) 10\n",
      "len(val_wavs[ketts2-60f_angry]) 10\n",
      "len(val_wavs[ketts-30m_sad]) 10\n",
      "len(val_wavs[ketts2-60f_disgusted]) 10\n",
      "len(val_wavs[ketts2-50m_fearful]) 10\n",
      "len(val_wavs[ketts-30m_fearful]) 10\n",
      "len(val_wavs[ketts2-50m_surprised]) 10\n",
      "len(val_wavs[ketts2-20m_neutral]) 10\n",
      "len(val_wavs[ketts2-50m_sad]) 10\n",
      "len(val_wavs[ketts-30f_sad]) 10\n",
      "len(val_wavs[ketts-30m_happy]) 10\n",
      "len(val_wavs[ketts2-50f_angry]) 10\n",
      "len(val_wavs[ketts2-60f_neutral]) 10\n",
      "len(val_wavs[ketts2-20m_surprised]) 10\n",
      "len(val_wavs[ketts2-50m_happy]) 10\n",
      "len(val_wavs[nc-f_happy]) 8\n",
      "len(val_wavs[nc-m_fearful]) 9\n",
      "len(val_wavs[ketts2-20m_happy]) 10\n",
      "len(val_wavs[ketts2-40m_neutral]) 10\n",
      "len(val_wavs[nc-f_fearful]) 13\n",
      "len(val_wavs[ketts2-20m_angry]) 10\n",
      "len(val_wavs[nc-m_neutral]) 20\n",
      "len(val_wavs[ketts2-40m_disgusted]) 10\n",
      "len(val_wavs[ketts-30f_happy]) 10\n",
      "len(val_wavs[ketts-30m_surprised]) 10\n",
      "len(val_wavs[ketts2-20m_disgusted]) 10\n",
      "len(val_wavs[ketts2-50f_neutral]) 10\n",
      "len(val_wavs[ketts-30f_neutral]) 10\n",
      "len(val_wavs[ketts2-40m_happy]) 10\n",
      "len(val_wavs[ketts2-30f_fearful]) 10\n",
      "len(val_wavs[ketts2-50m_angry]) 10\n",
      "len(val_wavs[ketts-30f_angry]) 10\n",
      "len(val_wavs[ketts2-60f_happy]) 10\n",
      "len(val_wavs[ketts2-60f_fearful]) 10\n",
      "len(val_wavs[ketts2-30f_neutral]) 10\n",
      "len(val_wavs[ketts-30m_disgusted]) 10\n",
      "len(val_wavs[ketts2-50m_neutral]) 10\n",
      "len(val_wavs[ketts2-30f_sad]) 10\n",
      "len(val_wavs[ketts2-40m_sad]) 10\n",
      "len(val_wavs[ketts2-60f_sad]) 10\n",
      "len(val_wavs[ketts2-30f_angry]) 10\n",
      "len(val_wavs[ketts2-30f_disgusted]) 10\n",
      "len(val_wavs[ketts2-50f_fearful]) 10\n",
      "len(val_wavs[ketts2-50f_happy]) 10\n",
      "len(val_wavs[ketts2-50m_disgusted]) 10\n",
      "len(val_wavs[ketts2-40m_fearful]) 10\n",
      "len(val_wavs[ketts2-30f_happy]) 10\n",
      "len(val_wavs[ketts2-50f_disgusted]) 10\n",
      "len(val_wavs[nc-f_neutral]) 26\n",
      "len(val_wavs[nc-f_sad]) 8\n",
      "len(val_wavs[nc-m_angry]) 12\n",
      "len(val_wavs[nc-m_sad]) 6\n",
      "len(val_wavs[ketts2-30f_surprised]) 10\n",
      "len(val_wavs[ketts2-50f_surprised]) 10\n",
      "len(val_wavs[nc-f_angry]) 17\n",
      "len(val_wavs[ketts-30f_fearful]) 10\n",
      "len(val_wavs[ketts2-40m_surprised]) 10\n",
      "len(val_wavs[kss-w_neutral]) 128\n",
      "len(val_wavs[ketts-30f_surprised]) 10\n",
      "len(train_wavs[nc-m_happy]) 1075\n",
      "len(train_wavs[ketts-30f_disgusted]) 2823\n",
      "len(train_wavs[ketts2-50f_sad]) 361\n",
      "len(train_wavs[ketts2-20m_sad]) 398\n",
      "len(train_wavs[ketts-30m_angry]) 2906\n",
      "len(train_wavs[ketts2-20m_fearful]) 417\n",
      "len(train_wavs[ketts-30m_neutral]) 2894\n",
      "len(train_wavs[ketts2-60f_surprised]) 455\n",
      "len(train_wavs[ketts2-40m_angry]) 450\n",
      "len(train_wavs[ketts2-60f_angry]) 442\n",
      "len(train_wavs[ketts-30m_sad]) 2738\n",
      "len(train_wavs[ketts2-60f_disgusted]) 450\n",
      "len(train_wavs[ketts2-50m_fearful]) 461\n",
      "len(train_wavs[ketts-30m_fearful]) 2796\n",
      "len(train_wavs[ketts2-50m_surprised]) 459\n",
      "len(train_wavs[ketts2-20m_neutral]) 443\n",
      "len(train_wavs[ketts2-50m_sad]) 446\n",
      "len(train_wavs[ketts-30f_sad]) 2606\n",
      "len(train_wavs[ketts-30m_happy]) 2843\n",
      "len(train_wavs[ketts2-50f_angry]) 417\n",
      "len(train_wavs[ketts2-60f_neutral]) 413\n",
      "len(train_wavs[ketts2-20m_surprised]) 451\n",
      "len(train_wavs[ketts2-50m_happy]) 456\n",
      "len(train_wavs[nc-f_happy]) 1079\n",
      "len(train_wavs[nc-m_fearful]) 1077\n",
      "len(train_wavs[ketts2-20m_happy]) 447\n",
      "len(train_wavs[ketts2-40m_neutral]) 437\n",
      "len(train_wavs[nc-f_fearful]) 1070\n",
      "len(train_wavs[ketts2-20m_angry]) 453\n",
      "len(train_wavs[nc-m_neutral]) 2985\n",
      "len(train_wavs[ketts2-40m_disgusted]) 438\n",
      "len(train_wavs[ketts-30f_happy]) 3710\n",
      "len(train_wavs[ketts-30m_surprised]) 2893\n",
      "len(train_wavs[ketts2-20m_disgusted]) 424\n",
      "len(train_wavs[ketts2-50f_neutral]) 411\n",
      "len(train_wavs[ketts-30f_neutral]) 2770\n",
      "len(train_wavs[ketts2-40m_happy]) 442\n",
      "len(train_wavs[ketts2-30f_fearful]) 464\n",
      "len(train_wavs[ketts2-50m_angry]) 461\n",
      "len(train_wavs[ketts-30f_angry]) 2824\n",
      "len(train_wavs[ketts2-60f_happy]) 412\n",
      "len(train_wavs[ketts2-60f_fearful]) 430\n",
      "len(train_wavs[ketts2-30f_neutral]) 469\n",
      "len(train_wavs[ketts-30m_disgusted]) 2913\n",
      "len(train_wavs[ketts2-50m_neutral]) 460\n",
      "len(train_wavs[ketts2-30f_sad]) 420\n",
      "len(train_wavs[ketts2-40m_sad]) 411\n",
      "len(train_wavs[ketts2-60f_sad]) 395\n",
      "len(train_wavs[ketts2-30f_angry]) 466\n",
      "len(train_wavs[ketts2-30f_disgusted]) 456\n",
      "len(train_wavs[ketts2-50f_fearful]) 338\n",
      "len(train_wavs[ketts2-50f_happy]) 408\n",
      "len(train_wavs[ketts2-50m_disgusted]) 453\n",
      "len(train_wavs[ketts2-40m_fearful]) 411\n",
      "len(train_wavs[ketts2-30f_happy]) 448\n",
      "len(train_wavs[ketts2-50f_disgusted]) 406\n",
      "len(train_wavs[nc-f_neutral]) 2925\n",
      "len(train_wavs[nc-f_sad]) 1034\n",
      "len(train_wavs[nc-m_angry]) 1070\n",
      "len(train_wavs[nc-m_sad]) 1074\n",
      "len(train_wavs[ketts2-30f_surprised]) 464\n",
      "len(train_wavs[ketts2-50f_surprised]) 397\n",
      "len(train_wavs[nc-f_angry]) 1055\n",
      "len(train_wavs[ketts-30f_fearful]) 2767\n",
      "len(train_wavs[ketts2-40m_surprised]) 444\n",
      "len(train_wavs[kss-w_neutral]) 12571\n",
      "len(train_wavs[ketts-30f_surprised]) 2773\n",
      "Exclusion\n",
      "#samples of short length 33\n"
     ]
    },
    {
     "name": "stderr",
     "output_type": "stream",
     "text": [
      "\n"
     ]
    }
   ],
   "source": [
    "n_test_wav_per_voice_type = 10\n",
    "\n",
    "cnt_short_wav = 0\n",
    "\n",
    "test_wavs = dict()\n",
    "val_wavs = dict()\n",
    "train_wavs = dict()\n",
    "\n",
    "for voice_type in voice_type_set:\n",
    "    test_wavs[voice_type] = list()\n",
    "for voice_type in voice_type_set:\n",
    "    val_wavs[voice_type] = list()\n",
    "for voice_type in voice_type_set:\n",
    "    train_wavs[voice_type] = list()\n",
    "    \n",
    "for i, row in tqdm(df.iterrows(), total=len(df)):\n",
    "    duration, n_frames, sr = get_duration(row.wav_path)\n",
    "    if n_frames < \n",
    "    :\n",
    "        cnt_short_wav += 1\n",
    "        continue\n",
    "        \n",
    "    voice_type = '{}_{}'.format(row.speaker, row.emotion)\n",
    "    if row.split == 'test':\n",
    "        test_wavs[voice_type].append(row.wav_path)\n",
    "    if row.split == 'val':\n",
    "        val_wavs[voice_type].append(row.wav_path)\n",
    "    if row.split == 'train':\n",
    "        train_wavs[voice_type].append(row.wav_path)\n",
    "        \n",
    "for voice_type in voice_type_set:\n",
    "    print('len(test_wavs[{}])'.format(voice_type), len(test_wavs[voice_type]))\n",
    "for voice_type in voice_type_set:\n",
    "    print('len(val_wavs[{}])'.format(voice_type), len(val_wavs[voice_type]))\n",
    "for voice_type in voice_type_set:\n",
    "     print('len(train_wavs[{}])'.format(voice_type), len(train_wavs[voice_type]))\n",
    "\n",
    "print(\"Exclusion\")\n",
    "print(\"#samples of short length\", cnt_short_wav)"
   ]
  },
  {
   "cell_type": "code",
   "execution_count": 9,
   "metadata": {},
   "outputs": [
    {
     "name": "stdout",
     "output_type": "stream",
     "text": [
      "len(test_wav_list) 816\n",
      "len(val_wav_list) 816\n",
      "len(train_wav_list) 85455\n"
     ]
    }
   ],
   "source": [
    "test_wav_paths = list()\n",
    "for voice_type in voice_type_set:\n",
    "    test_wav_paths += test_wavs[voice_type]\n",
    "\n",
    "val_wav_paths = list()\n",
    "for voice_type in voice_type_set:\n",
    "    val_wav_paths += val_wavs[voice_type]\n",
    "    \n",
    "train_wav_paths = list()\n",
    "for voice_type in voice_type_set:\n",
    "    train_wav_paths += train_wavs[voice_type]\n",
    "    \n",
    "print('len(test_wav_list)', len(test_wav_paths))\n",
    "print('len(val_wav_list)', len(val_wav_paths))\n",
    "print('len(train_wav_list)', len(train_wav_paths))"
   ]
  },
  {
   "cell_type": "code",
   "execution_count": 10,
   "metadata": {
    "tags": []
   },
   "outputs": [],
   "source": [
    "with open('test_files.txt', 'w') as f:\n",
    "    w_string = ''\n",
    "    for test_wav_path in test_wav_paths:\n",
    "        w_string += test_wav_path\n",
    "        w_string += '\\n'\n",
    "    #w_string = w_string[:-1]\n",
    "    f.write(w_string)\n",
    "    #f.writelines(test_wav_paths)\n",
    "\n",
    "with open('val_files.txt', 'w') as f:\n",
    "    w_string = ''\n",
    "    for val_wav_path in val_wav_paths:\n",
    "        w_string += val_wav_path\n",
    "        w_string += '\\n'\n",
    "    #w_string = w_string[:-1]\n",
    "    f.write(w_string)\n",
    "    #f.writelines(val_wav_paths)\n",
    "    \n",
    "with open('train_files.txt', 'w') as f:\n",
    "    w_string = ''\n",
    "    for train_wav_path in train_wav_paths:\n",
    "        w_string += train_wav_path\n",
    "        w_string += '\\n'\n",
    "    #w_string = w_string[:-1]\n",
    "    f.write(w_string)\n",
    "    #f.writelines(train_wav_paths)"
   ]
  }
 ],
 "metadata": {
  "kernelspec": {
   "display_name": "Python 3",
   "language": "python",
   "name": "python3"
  },
  "language_info": {
   "codemirror_mode": {
    "name": "ipython",
    "version": 3
   },
   "file_extension": ".py",
   "mimetype": "text/x-python",
   "name": "python",
   "nbconvert_exporter": "python",
   "pygments_lexer": "ipython3",
   "version": "3.7.4"
  }
 },
 "nbformat": 4,
 "nbformat_minor": 4
}
